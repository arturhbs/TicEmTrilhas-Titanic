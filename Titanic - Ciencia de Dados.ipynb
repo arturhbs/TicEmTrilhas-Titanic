{
  "nbformat": 4,
  "nbformat_minor": 0,
  "metadata": {
    "colab": {
      "provenance": [],
      "collapsed_sections": [
        "euqTaAO-IHkC",
        "tn0fTL4NHLKl",
        "xwB8irlDJVMB",
        "ZTtV3MeOJ1Z7",
        "NycEStXIJ9fP",
        "NjQFCJW-LdSo",
        "4NRir-qhMA0b",
        "W0HVrYiHMSuD",
        "Bz6yL5dnMWkq",
        "kPqJqKZFM57z",
        "iyMVbiUdNWhc",
        "DyGYR_klSwpq",
        "89P6job6Sz8U",
        "xyN3dNzFS5Yv"
      ]
    },
    "kernelspec": {
      "name": "python3",
      "display_name": "Python 3"
    },
    "language_info": {
      "name": "python"
    }
  },
  "cells": [
    {
      "cell_type": "markdown",
      "source": [
        "# 1 Importação das Bibliotecas"
      ],
      "metadata": {
        "id": "euqTaAO-IHkC"
      }
    },
    {
      "cell_type": "code",
      "source": [
        "import pandas as pd\n",
        "import numpy as np\n",
        "import matplotlib.pyplot as plt\n",
        "import seaborn as sns\n",
        "\n",
        "# Configurações para visualização\n",
        "%matplotlib inline\n",
        "sns.set(style=\"whitegrid\")\n",
        "\n",
        "print(\"Bibliotecas importadas com sucesso!\")\n"
      ],
      "metadata": {
        "id": "28s-CsWLIzp7"
      },
      "execution_count": null,
      "outputs": []
    },
    {
      "cell_type": "markdown",
      "source": [
        "# 2 Coleta de Dados"
      ],
      "metadata": {
        "id": "tn0fTL4NHLKl"
      }
    },
    {
      "cell_type": "code",
      "execution_count": null,
      "metadata": {
        "id": "ZVonDd1aHHOX"
      },
      "outputs": [],
      "source": [
        "import pandas as pd\n",
        "\n",
        "# Carregando os dados do Titanic a partir de uma URL\n",
        "url = 'https://raw.githubusercontent.com/datasciencedojo/datasets/master/titanic.csv'\n",
        "df = pd.read_csv(url)\n",
        "\n",
        "# Exemplos de outras formas de coleta de dados\n",
        "# df = pd.read_csv('caminho_para_o_arquivo_local.csv')\n",
        "# df = pd.read_excel('caminho_para_o_arquivo_local.xlsx')\n",
        "# df = pd.read_sql('SELECT * FROM tabela_titanic', conexao_banco_de_dados)\n",
        "# df = pd.read_json('url_ou_caminho_para_o_arquivo.json')\n",
        "\n",
        "# Visualizando as primeiras linhas do dataframe\n",
        "# Dataframe é uma estrutura de dados em forma de tabela, facil de organizar, manipular e analisar com métodos prontos.\n",
        "df.head()\n"
      ]
    },
    {
      "cell_type": "markdown",
      "source": [
        " # 3 Transformações Básicas"
      ],
      "metadata": {
        "id": "xwB8irlDJVMB"
      }
    },
    {
      "cell_type": "code",
      "source": [
        "df.columns"
      ],
      "metadata": {
        "id": "8DglrYyg23Yr"
      },
      "execution_count": null,
      "outputs": []
    },
    {
      "cell_type": "code",
      "source": [
        "\n",
        "df.columns = ['id_passageiro', 'sobrevivente', 'classe', 'nome', 'sexo', 'idade', 'irmaos_cônjuges', 'pais_filhos', 'bilhete', 'tarifa', 'cabine', 'embarque']\n",
        "\n",
        "print(\"Nomes das colunas transformados para português!\")\n",
        "df.head()\n"
      ],
      "metadata": {
        "id": "Mk9_2nBZJO5I"
      },
      "execution_count": null,
      "outputs": []
    },
    {
      "cell_type": "markdown",
      "source": [
        "\n",
        "**Descrição:** O conjunto de dados do Titanic é real e contém informações sobre os passageiros que estavam a bordo do Titanic quando ele afundou em 1912.\n",
        "\n",
        "* **Id_Passageiro:** Identificador único de cada passageiro\n",
        "* **Sobrevivente:** Indica se o passageiro sobreviveu (1) ou não (0)\n",
        "* **Classe:** Classe do ticket do passageiro (1 = 1ª classe, 2 = 2ª classe, 3 = 3ª * lasse)\n",
        "* **Nome:** Nome do passageiro\n",
        "* **Sexo:** Sexo do passageiro\n",
        "* **Idade:** Idade do passageiro\n",
        "* **Irmãos/Cônjuges_A_Bordo:** Número de irmãos/cônjuges a bordo\n",
        "* **Pais/Filhos_A_Bordo:** Número de pais/filhos a bordo\n",
        "* **Bilhete:** Número do bilhete\n",
        "* **Tarifa:** Tarifa paga pelo bilhete\n",
        "* **Cabine:** Número da cabine\n",
        "* **Embarque:** Porto de embarque (C = Cherbourg; Q = Queenstown; S = Southampton)\n"
      ],
      "metadata": {
        "id": "P8j6XUovOdUz"
      }
    },
    {
      "cell_type": "markdown",
      "source": [
        "# 4 Analise Exploratória de Dados\n",
        "\n"
      ],
      "metadata": {
        "id": "ZTtV3MeOJ1Z7"
      }
    },
    {
      "cell_type": "markdown",
      "source": [
        "## 4.1 Tamanho do DataFrame e Nome das Colunas"
      ],
      "metadata": {
        "id": "NycEStXIJ9fP"
      }
    },
    {
      "cell_type": "code",
      "source": [
        "print(\"Tamanho do DataFrame:\", df.shape)\n",
        "print(\"Nomes das colunas:\", df.columns.tolist())\n"
      ],
      "metadata": {
        "id": "TfskuiYXJLpW"
      },
      "execution_count": null,
      "outputs": []
    },
    {
      "cell_type": "markdown",
      "source": [
        "## 4.2 Quantidade de Valores Nulos por Coluna"
      ],
      "metadata": {
        "id": "NjQFCJW-LdSo"
      }
    },
    {
      "cell_type": "code",
      "source": [
        "missing_data = df.isnull().sum()\n",
        "missing_percentage = (df.isnull().sum() / df.shape[0]) * 100\n",
        "\n",
        "missing_df = pd.DataFrame({'Quantidade': missing_data, 'Percentual': missing_percentage})\n",
        "missing_df = missing_df[missing_df['Quantidade'] > 0].sort_values(by='Quantidade', ascending=False)\n",
        "\n",
        "plt.figure(figsize=(12, 6))\n",
        "sns.barplot(x=missing_df.index, y=missing_df['Quantidade'])\n",
        "plt.title('Quantidade de Valores Nulos por Coluna')\n",
        "plt.ylabel('Quantidade de Valores Nulos')\n",
        "plt.xlabel('Colunas')\n",
        "plt.xticks(rotation=45)\n",
        "plt.show()\n",
        "\n",
        "missing_df\n"
      ],
      "metadata": {
        "id": "WDz8OjSgLa1e"
      },
      "execution_count": null,
      "outputs": []
    },
    {
      "cell_type": "markdown",
      "source": [
        "## 4.3 Exemplo de Dados Sujos"
      ],
      "metadata": {
        "id": "4NRir-qhMA0b"
      }
    },
    {
      "cell_type": "code",
      "source": [
        "# Exemplo de letras erradas\n",
        "print(\"Valores únicos na coluna 'Embarque':\", df['embarque'].unique())\n",
        "\n",
        "# Exemplo de números exorbitantes\n",
        "print(\"Idades fora do padrão:\", df[df['idade'] > 150])\n"
      ],
      "metadata": {
        "id": "L_D_gzzmMAPG"
      },
      "execution_count": null,
      "outputs": []
    },
    {
      "cell_type": "markdown",
      "source": [
        "## 4.4 Analise Univariada"
      ],
      "metadata": {
        "id": "W0HVrYiHMSuD"
      }
    },
    {
      "cell_type": "code",
      "source": [
        "df.head()"
      ],
      "metadata": {
        "id": "igv8N_dI4Gb_"
      },
      "execution_count": null,
      "outputs": []
    },
    {
      "cell_type": "code",
      "source": [
        "plt.figure(figsize=(12, 6))\n",
        "\n",
        "# Distribuição da Idade\n",
        "plt.subplot(1, 2, 1)\n",
        "sns.histplot(df['idade'].dropna(), bins=30, kde=True)\n",
        "plt.title('Distribuição da Idade')\n",
        "\n",
        "# Distribuição da Tarifa\n",
        "plt.subplot(1, 2, 2)\n",
        "sns.histplot(df['tarifa'].dropna(), bins=30, kde=True)\n",
        "plt.title('Distribuição da Tarifa')\n",
        "\n",
        "plt.tight_layout()\n",
        "plt.show()\n",
        "\n",
        "print(\"Análise Univariada: A distribuição da idade e da tarifa nos ajuda a entender melhor a demografia dos passageiros e a variabilidade dos preços dos bilhetes.\")\n"
      ],
      "metadata": {
        "id": "WsOSSvFsMWJw"
      },
      "execution_count": null,
      "outputs": []
    },
    {
      "cell_type": "markdown",
      "source": [
        "## 4.5 Analise Bivariada"
      ],
      "metadata": {
        "id": "Bz6yL5dnMWkq"
      }
    },
    {
      "cell_type": "code",
      "source": [
        "# Idade vs. sobrevivente\n",
        "plt.figure(figsize=(10, 6))\n",
        "sns.boxplot(x='sobrevivente', y='idade', data=df)\n",
        "plt.title('Idade vs. Sobrevivência')\n",
        "plt.show()\n",
        "\n",
        "# Tarifa vs. sobrevivente\n",
        "plt.figure(figsize=(10, 6))\n",
        "sns.boxplot(x='sobrevivente', y='tarifa', data=df)\n",
        "plt.title('Tarifa vs. Sobrevivência')\n",
        "plt.show()#boxplot"
      ],
      "metadata": {
        "id": "HQ92nF0_MW1j"
      },
      "execution_count": null,
      "outputs": []
    },
    {
      "cell_type": "markdown",
      "source": [
        "# 5 Tratamento de dados nulos"
      ],
      "metadata": {
        "id": "kPqJqKZFM57z"
      }
    },
    {
      "cell_type": "code",
      "source": [
        "# Preenchimento com a Média (idade)\n",
        "df['idade'].fillna(df['idade'].mean(), inplace=True)\n",
        "\n",
        "# Preenchimento com a Moda (embarque)\n",
        "df['embarque'].fillna(df['embarque'].mode()[0], inplace=True)\n",
        "\n",
        "# Preenchimento com um Valor Fixo (cabine)\n",
        "df['cabine'].fillna('Desconhecido', inplace=True)\n",
        "\n",
        "print(\"Dados Nulos Tratados!\")\n",
        "\n",
        "# Remoção de Linhas com Valores Nulos\n",
        "# df.dropna(inplace=True)\n",
        "\n",
        "# Preenchimento com Modelos de Machine Learning\n",
        "# from sklearn.impute import SimpleImputer\n",
        "# imputer = SimpleImputer(strategy='mean')\n",
        "# df['idade'] = imputer.fit_transform(df[['idade']])\n",
        "\n",
        "df.isnull().sum()\n"
      ],
      "metadata": {
        "id": "HWU6bsbIM9F-"
      },
      "execution_count": null,
      "outputs": []
    },
    {
      "cell_type": "markdown",
      "source": [
        "# 6 Bônus: Analises da comunidade"
      ],
      "metadata": {
        "id": "iyMVbiUdNWhc"
      }
    },
    {
      "cell_type": "markdown",
      "source": [
        "## 6.1 Exemplo 1"
      ],
      "metadata": {
        "id": "DyGYR_klSwpq"
      }
    },
    {
      "cell_type": "code",
      "source": [
        "plt.figure(figsize=(10, 6))\n",
        "sns.barplot(x='sexo', y='sobrevivente', data=df)\n",
        "plt.title('Taxa de Sobrevivência por Sexo')\n",
        "plt.show()\n"
      ],
      "metadata": {
        "id": "3f0k6CmVO_iH"
      },
      "execution_count": null,
      "outputs": []
    },
    {
      "cell_type": "markdown",
      "source": [
        "**Conclusão:** A famosa regra \"mulheres e crianças primeiro\" foi aplicada durante o naufrágio do Titanic."
      ],
      "metadata": {
        "id": "vrFmqa1hQ8hA"
      }
    },
    {
      "cell_type": "markdown",
      "source": [
        "## 6.2 Exemplo 2"
      ],
      "metadata": {
        "id": "89P6job6Sz8U"
      }
    },
    {
      "cell_type": "code",
      "source": [
        "plt.figure(figsize=(10, 6))\n",
        "sns.barplot(x='classe', y='sobrevivente', data=df)\n",
        "plt.title('Taxa de Sobrevivência por Classe')\n",
        "plt.show()\n"
      ],
      "metadata": {
        "id": "953AEnDURJ15"
      },
      "execution_count": null,
      "outputs": []
    },
    {
      "cell_type": "markdown",
      "source": [
        "**Conclusão:** Análise: A classe do bilhete dos passageiros pode ter influenciado suas chances de sobrevivência."
      ],
      "metadata": {
        "id": "ujqYJDx4Rbae"
      }
    },
    {
      "cell_type": "markdown",
      "source": [
        "## 6.3 Exemplo 3"
      ],
      "metadata": {
        "id": "xyN3dNzFS5Yv"
      }
    },
    {
      "cell_type": "code",
      "source": [
        "plt.figure(figsize=(10, 6))\n",
        "sns.barplot(x='embarque', y='sobrevivente', data=df)\n",
        "plt.title('Taxa de Sobrevivência por Porto de Embarque')\n",
        "plt.show()\n"
      ],
      "metadata": {
        "id": "yMBez07bRWwH"
      },
      "execution_count": null,
      "outputs": []
    },
    {
      "cell_type": "markdown",
      "source": [
        "Embarque: Porto de embarque (C = Cherbourg; Q = Queenstown; S = Southampton)\n",
        "\n",
        "**Conclusão:** passageiros que embarcaram em Cherbourg (C) geralmente tinham uma taxa de sobrevivência maior comparado aos que embarcaram em Southampton (S) e Queenstown (Q)."
      ],
      "metadata": {
        "id": "vOeQDgEeRnKy"
      }
    }
  ]
}